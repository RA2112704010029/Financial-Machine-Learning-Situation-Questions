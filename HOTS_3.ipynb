{
  "nbformat": 4,
  "nbformat_minor": 0,
  "metadata": {
    "colab": {
      "provenance": [],
      "authorship_tag": "ABX9TyMthztb4b1ORxgZJVK7gxkS",
      "include_colab_link": true
    },
    "kernelspec": {
      "name": "python3",
      "display_name": "Python 3"
    },
    "language_info": {
      "name": "python"
    }
  },
  "cells": [
    {
      "cell_type": "markdown",
      "metadata": {
        "id": "view-in-github",
        "colab_type": "text"
      },
      "source": [
        "<a href=\"https://colab.research.google.com/github/RA2112704010029/Financial-Machine-Learning-Situation-Questions/blob/main/HOTS_3.ipynb\" target=\"_parent\"><img src=\"https://colab.research.google.com/assets/colab-badge.svg\" alt=\"Open In Colab\"/></a>"
      ]
    },
    {
      "cell_type": "markdown",
      "source": [
        "# QUESTION - 3:\n",
        "Explain how you would use k-means clustering to categorize a set of stocks into similar groups based on their returns and volatility. Describe the process of identifying the optimal number of clusters using both the elbow method and silhouette score and include relevant Python code."
      ],
      "metadata": {
        "id": "JxQHp5JgXapb"
      }
    },
    {
      "cell_type": "markdown",
      "source": [
        "# LOAD THE DATASET"
      ],
      "metadata": {
        "id": "FjcbvzwvYjuP"
      }
    },
    {
      "cell_type": "code",
      "source": [
        "# Import the required libraries\n",
        "import pandas as pd\n",
        "import numpy as np\n",
        "from sklearn.cluster import KMeans\n",
        "from sklearn.preprocessing import StandardScaler\n",
        "import matplotlib.pyplot as plt\n",
        "from sklearn.metrics import silhouette_score\n",
        "\n",
        "# Load the dataset\n",
        "data = pd.read_csv(\"https://raw.githubusercontent.com/rochitasundar/Stock-clustering-using-ML/master/stock_data.csv\")\n",
        "data.head()"
      ],
      "metadata": {
        "colab": {
          "base_uri": "https://localhost:8080/",
          "height": 310
        },
        "id": "_GCLHKQAXq42",
        "outputId": "a1bcf137-513a-475c-9c1a-6294b8263726"
      },
      "execution_count": null,
      "outputs": [
        {
          "output_type": "execute_result",
          "data": {
            "text/plain": [
              "  Ticker Symbol                 Security             GICS Sector  \\\n",
              "0           AAL  American Airlines Group             Industrials   \n",
              "1          ABBV                   AbbVie             Health Care   \n",
              "2           ABT      Abbott Laboratories             Health Care   \n",
              "3          ADBE        Adobe Systems Inc  Information Technology   \n",
              "4           ADI     Analog Devices, Inc.  Information Technology   \n",
              "\n",
              "       GICS Sub Industry  Current Price  Price Change  Volatility  ROE  \\\n",
              "0               Airlines      42.349998      9.999995    1.687151  135   \n",
              "1        Pharmaceuticals      59.240002      8.339433    2.197887  130   \n",
              "2  Health Care Equipment      44.910000     11.301121    1.273646   21   \n",
              "3   Application Software      93.940002     13.977195    1.357679    9   \n",
              "4         Semiconductors      55.320000     -1.827858    1.701169   14   \n",
              "\n",
              "   Cash Ratio  Net Cash Flow  Net Income  Earnings Per Share  \\\n",
              "0          51     -604000000  7610000000               11.39   \n",
              "1          77       51000000  5144000000                3.15   \n",
              "2          67      938000000  4423000000                2.94   \n",
              "3         180     -240840000   629551000                1.26   \n",
              "4         272      315120000   696878000                0.31   \n",
              "\n",
              "   Estimated Shares Outstanding   P/E Ratio  P/B Ratio  \n",
              "0                  6.681299e+08    3.718174  -8.784219  \n",
              "1                  1.633016e+09   18.806350  -8.750068  \n",
              "2                  1.504422e+09   15.275510  -0.394171  \n",
              "3                  4.996437e+08   74.555557   4.199651  \n",
              "4                  2.247994e+09  178.451613   1.059810  "
            ],
            "text/html": [
              "\n",
              "  <div id=\"df-206bdddf-54ee-41cb-849a-f8cebfa4fde3\" class=\"colab-df-container\">\n",
              "    <div>\n",
              "<style scoped>\n",
              "    .dataframe tbody tr th:only-of-type {\n",
              "        vertical-align: middle;\n",
              "    }\n",
              "\n",
              "    .dataframe tbody tr th {\n",
              "        vertical-align: top;\n",
              "    }\n",
              "\n",
              "    .dataframe thead th {\n",
              "        text-align: right;\n",
              "    }\n",
              "</style>\n",
              "<table border=\"1\" class=\"dataframe\">\n",
              "  <thead>\n",
              "    <tr style=\"text-align: right;\">\n",
              "      <th></th>\n",
              "      <th>Ticker Symbol</th>\n",
              "      <th>Security</th>\n",
              "      <th>GICS Sector</th>\n",
              "      <th>GICS Sub Industry</th>\n",
              "      <th>Current Price</th>\n",
              "      <th>Price Change</th>\n",
              "      <th>Volatility</th>\n",
              "      <th>ROE</th>\n",
              "      <th>Cash Ratio</th>\n",
              "      <th>Net Cash Flow</th>\n",
              "      <th>Net Income</th>\n",
              "      <th>Earnings Per Share</th>\n",
              "      <th>Estimated Shares Outstanding</th>\n",
              "      <th>P/E Ratio</th>\n",
              "      <th>P/B Ratio</th>\n",
              "    </tr>\n",
              "  </thead>\n",
              "  <tbody>\n",
              "    <tr>\n",
              "      <th>0</th>\n",
              "      <td>AAL</td>\n",
              "      <td>American Airlines Group</td>\n",
              "      <td>Industrials</td>\n",
              "      <td>Airlines</td>\n",
              "      <td>42.349998</td>\n",
              "      <td>9.999995</td>\n",
              "      <td>1.687151</td>\n",
              "      <td>135</td>\n",
              "      <td>51</td>\n",
              "      <td>-604000000</td>\n",
              "      <td>7610000000</td>\n",
              "      <td>11.39</td>\n",
              "      <td>6.681299e+08</td>\n",
              "      <td>3.718174</td>\n",
              "      <td>-8.784219</td>\n",
              "    </tr>\n",
              "    <tr>\n",
              "      <th>1</th>\n",
              "      <td>ABBV</td>\n",
              "      <td>AbbVie</td>\n",
              "      <td>Health Care</td>\n",
              "      <td>Pharmaceuticals</td>\n",
              "      <td>59.240002</td>\n",
              "      <td>8.339433</td>\n",
              "      <td>2.197887</td>\n",
              "      <td>130</td>\n",
              "      <td>77</td>\n",
              "      <td>51000000</td>\n",
              "      <td>5144000000</td>\n",
              "      <td>3.15</td>\n",
              "      <td>1.633016e+09</td>\n",
              "      <td>18.806350</td>\n",
              "      <td>-8.750068</td>\n",
              "    </tr>\n",
              "    <tr>\n",
              "      <th>2</th>\n",
              "      <td>ABT</td>\n",
              "      <td>Abbott Laboratories</td>\n",
              "      <td>Health Care</td>\n",
              "      <td>Health Care Equipment</td>\n",
              "      <td>44.910000</td>\n",
              "      <td>11.301121</td>\n",
              "      <td>1.273646</td>\n",
              "      <td>21</td>\n",
              "      <td>67</td>\n",
              "      <td>938000000</td>\n",
              "      <td>4423000000</td>\n",
              "      <td>2.94</td>\n",
              "      <td>1.504422e+09</td>\n",
              "      <td>15.275510</td>\n",
              "      <td>-0.394171</td>\n",
              "    </tr>\n",
              "    <tr>\n",
              "      <th>3</th>\n",
              "      <td>ADBE</td>\n",
              "      <td>Adobe Systems Inc</td>\n",
              "      <td>Information Technology</td>\n",
              "      <td>Application Software</td>\n",
              "      <td>93.940002</td>\n",
              "      <td>13.977195</td>\n",
              "      <td>1.357679</td>\n",
              "      <td>9</td>\n",
              "      <td>180</td>\n",
              "      <td>-240840000</td>\n",
              "      <td>629551000</td>\n",
              "      <td>1.26</td>\n",
              "      <td>4.996437e+08</td>\n",
              "      <td>74.555557</td>\n",
              "      <td>4.199651</td>\n",
              "    </tr>\n",
              "    <tr>\n",
              "      <th>4</th>\n",
              "      <td>ADI</td>\n",
              "      <td>Analog Devices, Inc.</td>\n",
              "      <td>Information Technology</td>\n",
              "      <td>Semiconductors</td>\n",
              "      <td>55.320000</td>\n",
              "      <td>-1.827858</td>\n",
              "      <td>1.701169</td>\n",
              "      <td>14</td>\n",
              "      <td>272</td>\n",
              "      <td>315120000</td>\n",
              "      <td>696878000</td>\n",
              "      <td>0.31</td>\n",
              "      <td>2.247994e+09</td>\n",
              "      <td>178.451613</td>\n",
              "      <td>1.059810</td>\n",
              "    </tr>\n",
              "  </tbody>\n",
              "</table>\n",
              "</div>\n",
              "    <div class=\"colab-df-buttons\">\n",
              "\n",
              "  <div class=\"colab-df-container\">\n",
              "    <button class=\"colab-df-convert\" onclick=\"convertToInteractive('df-206bdddf-54ee-41cb-849a-f8cebfa4fde3')\"\n",
              "            title=\"Convert this dataframe to an interactive table.\"\n",
              "            style=\"display:none;\">\n",
              "\n",
              "  <svg xmlns=\"http://www.w3.org/2000/svg\" height=\"24px\" viewBox=\"0 -960 960 960\">\n",
              "    <path d=\"M120-120v-720h720v720H120Zm60-500h600v-160H180v160Zm220 220h160v-160H400v160Zm0 220h160v-160H400v160ZM180-400h160v-160H180v160Zm440 0h160v-160H620v160ZM180-180h160v-160H180v160Zm440 0h160v-160H620v160Z\"/>\n",
              "  </svg>\n",
              "    </button>\n",
              "\n",
              "  <style>\n",
              "    .colab-df-container {\n",
              "      display:flex;\n",
              "      gap: 12px;\n",
              "    }\n",
              "\n",
              "    .colab-df-convert {\n",
              "      background-color: #E8F0FE;\n",
              "      border: none;\n",
              "      border-radius: 50%;\n",
              "      cursor: pointer;\n",
              "      display: none;\n",
              "      fill: #1967D2;\n",
              "      height: 32px;\n",
              "      padding: 0 0 0 0;\n",
              "      width: 32px;\n",
              "    }\n",
              "\n",
              "    .colab-df-convert:hover {\n",
              "      background-color: #E2EBFA;\n",
              "      box-shadow: 0px 1px 2px rgba(60, 64, 67, 0.3), 0px 1px 3px 1px rgba(60, 64, 67, 0.15);\n",
              "      fill: #174EA6;\n",
              "    }\n",
              "\n",
              "    .colab-df-buttons div {\n",
              "      margin-bottom: 4px;\n",
              "    }\n",
              "\n",
              "    [theme=dark] .colab-df-convert {\n",
              "      background-color: #3B4455;\n",
              "      fill: #D2E3FC;\n",
              "    }\n",
              "\n",
              "    [theme=dark] .colab-df-convert:hover {\n",
              "      background-color: #434B5C;\n",
              "      box-shadow: 0px 1px 3px 1px rgba(0, 0, 0, 0.15);\n",
              "      filter: drop-shadow(0px 1px 2px rgba(0, 0, 0, 0.3));\n",
              "      fill: #FFFFFF;\n",
              "    }\n",
              "  </style>\n",
              "\n",
              "    <script>\n",
              "      const buttonEl =\n",
              "        document.querySelector('#df-206bdddf-54ee-41cb-849a-f8cebfa4fde3 button.colab-df-convert');\n",
              "      buttonEl.style.display =\n",
              "        google.colab.kernel.accessAllowed ? 'block' : 'none';\n",
              "\n",
              "      async function convertToInteractive(key) {\n",
              "        const element = document.querySelector('#df-206bdddf-54ee-41cb-849a-f8cebfa4fde3');\n",
              "        const dataTable =\n",
              "          await google.colab.kernel.invokeFunction('convertToInteractive',\n",
              "                                                    [key], {});\n",
              "        if (!dataTable) return;\n",
              "\n",
              "        const docLinkHtml = 'Like what you see? Visit the ' +\n",
              "          '<a target=\"_blank\" href=https://colab.research.google.com/notebooks/data_table.ipynb>data table notebook</a>'\n",
              "          + ' to learn more about interactive tables.';\n",
              "        element.innerHTML = '';\n",
              "        dataTable['output_type'] = 'display_data';\n",
              "        await google.colab.output.renderOutput(dataTable, element);\n",
              "        const docLink = document.createElement('div');\n",
              "        docLink.innerHTML = docLinkHtml;\n",
              "        element.appendChild(docLink);\n",
              "      }\n",
              "    </script>\n",
              "  </div>\n",
              "\n",
              "\n",
              "<div id=\"df-1324a6ad-a749-4d05-b8cd-5076944c0a6c\">\n",
              "  <button class=\"colab-df-quickchart\" onclick=\"quickchart('df-1324a6ad-a749-4d05-b8cd-5076944c0a6c')\"\n",
              "            title=\"Suggest charts\"\n",
              "            style=\"display:none;\">\n",
              "\n",
              "<svg xmlns=\"http://www.w3.org/2000/svg\" height=\"24px\"viewBox=\"0 0 24 24\"\n",
              "     width=\"24px\">\n",
              "    <g>\n",
              "        <path d=\"M19 3H5c-1.1 0-2 .9-2 2v14c0 1.1.9 2 2 2h14c1.1 0 2-.9 2-2V5c0-1.1-.9-2-2-2zM9 17H7v-7h2v7zm4 0h-2V7h2v10zm4 0h-2v-4h2v4z\"/>\n",
              "    </g>\n",
              "</svg>\n",
              "  </button>\n",
              "\n",
              "<style>\n",
              "  .colab-df-quickchart {\n",
              "      --bg-color: #E8F0FE;\n",
              "      --fill-color: #1967D2;\n",
              "      --hover-bg-color: #E2EBFA;\n",
              "      --hover-fill-color: #174EA6;\n",
              "      --disabled-fill-color: #AAA;\n",
              "      --disabled-bg-color: #DDD;\n",
              "  }\n",
              "\n",
              "  [theme=dark] .colab-df-quickchart {\n",
              "      --bg-color: #3B4455;\n",
              "      --fill-color: #D2E3FC;\n",
              "      --hover-bg-color: #434B5C;\n",
              "      --hover-fill-color: #FFFFFF;\n",
              "      --disabled-bg-color: #3B4455;\n",
              "      --disabled-fill-color: #666;\n",
              "  }\n",
              "\n",
              "  .colab-df-quickchart {\n",
              "    background-color: var(--bg-color);\n",
              "    border: none;\n",
              "    border-radius: 50%;\n",
              "    cursor: pointer;\n",
              "    display: none;\n",
              "    fill: var(--fill-color);\n",
              "    height: 32px;\n",
              "    padding: 0;\n",
              "    width: 32px;\n",
              "  }\n",
              "\n",
              "  .colab-df-quickchart:hover {\n",
              "    background-color: var(--hover-bg-color);\n",
              "    box-shadow: 0 1px 2px rgba(60, 64, 67, 0.3), 0 1px 3px 1px rgba(60, 64, 67, 0.15);\n",
              "    fill: var(--button-hover-fill-color);\n",
              "  }\n",
              "\n",
              "  .colab-df-quickchart-complete:disabled,\n",
              "  .colab-df-quickchart-complete:disabled:hover {\n",
              "    background-color: var(--disabled-bg-color);\n",
              "    fill: var(--disabled-fill-color);\n",
              "    box-shadow: none;\n",
              "  }\n",
              "\n",
              "  .colab-df-spinner {\n",
              "    border: 2px solid var(--fill-color);\n",
              "    border-color: transparent;\n",
              "    border-bottom-color: var(--fill-color);\n",
              "    animation:\n",
              "      spin 1s steps(1) infinite;\n",
              "  }\n",
              "\n",
              "  @keyframes spin {\n",
              "    0% {\n",
              "      border-color: transparent;\n",
              "      border-bottom-color: var(--fill-color);\n",
              "      border-left-color: var(--fill-color);\n",
              "    }\n",
              "    20% {\n",
              "      border-color: transparent;\n",
              "      border-left-color: var(--fill-color);\n",
              "      border-top-color: var(--fill-color);\n",
              "    }\n",
              "    30% {\n",
              "      border-color: transparent;\n",
              "      border-left-color: var(--fill-color);\n",
              "      border-top-color: var(--fill-color);\n",
              "      border-right-color: var(--fill-color);\n",
              "    }\n",
              "    40% {\n",
              "      border-color: transparent;\n",
              "      border-right-color: var(--fill-color);\n",
              "      border-top-color: var(--fill-color);\n",
              "    }\n",
              "    60% {\n",
              "      border-color: transparent;\n",
              "      border-right-color: var(--fill-color);\n",
              "    }\n",
              "    80% {\n",
              "      border-color: transparent;\n",
              "      border-right-color: var(--fill-color);\n",
              "      border-bottom-color: var(--fill-color);\n",
              "    }\n",
              "    90% {\n",
              "      border-color: transparent;\n",
              "      border-bottom-color: var(--fill-color);\n",
              "    }\n",
              "  }\n",
              "</style>\n",
              "\n",
              "  <script>\n",
              "    async function quickchart(key) {\n",
              "      const quickchartButtonEl =\n",
              "        document.querySelector('#' + key + ' button');\n",
              "      quickchartButtonEl.disabled = true;  // To prevent multiple clicks.\n",
              "      quickchartButtonEl.classList.add('colab-df-spinner');\n",
              "      try {\n",
              "        const charts = await google.colab.kernel.invokeFunction(\n",
              "            'suggestCharts', [key], {});\n",
              "      } catch (error) {\n",
              "        console.error('Error during call to suggestCharts:', error);\n",
              "      }\n",
              "      quickchartButtonEl.classList.remove('colab-df-spinner');\n",
              "      quickchartButtonEl.classList.add('colab-df-quickchart-complete');\n",
              "    }\n",
              "    (() => {\n",
              "      let quickchartButtonEl =\n",
              "        document.querySelector('#df-1324a6ad-a749-4d05-b8cd-5076944c0a6c button');\n",
              "      quickchartButtonEl.style.display =\n",
              "        google.colab.kernel.accessAllowed ? 'block' : 'none';\n",
              "    })();\n",
              "  </script>\n",
              "</div>\n",
              "\n",
              "    </div>\n",
              "  </div>\n"
            ],
            "application/vnd.google.colaboratory.intrinsic+json": {
              "type": "dataframe",
              "variable_name": "data",
              "summary": "{\n  \"name\": \"data\",\n  \"rows\": 340,\n  \"fields\": [\n    {\n      \"column\": \"Ticker Symbol\",\n      \"properties\": {\n        \"dtype\": \"string\",\n        \"num_unique_values\": 340,\n        \"samples\": [\n          \"SWN\",\n          \"ETN\",\n          \"ES\"\n        ],\n        \"semantic_type\": \"\",\n        \"description\": \"\"\n      }\n    },\n    {\n      \"column\": \"Security\",\n      \"properties\": {\n        \"dtype\": \"string\",\n        \"num_unique_values\": 340,\n        \"samples\": [\n          \"Southwestern Energy\",\n          \"Eaton Corporation\",\n          \"Eversource Energy\"\n        ],\n        \"semantic_type\": \"\",\n        \"description\": \"\"\n      }\n    },\n    {\n      \"column\": \"GICS Sector\",\n      \"properties\": {\n        \"dtype\": \"category\",\n        \"num_unique_values\": 11,\n        \"samples\": [\n          \"Financials\",\n          \"Industrials\",\n          \"Energy\"\n        ],\n        \"semantic_type\": \"\",\n        \"description\": \"\"\n      }\n    },\n    {\n      \"column\": \"GICS Sub Industry\",\n      \"properties\": {\n        \"dtype\": \"category\",\n        \"num_unique_values\": 104,\n        \"samples\": [\n          \"Water Utilities\",\n          \"Retail REITs\",\n          \"Diversified Commercial Services\"\n        ],\n        \"semantic_type\": \"\",\n        \"description\": \"\"\n      }\n    },\n    {\n      \"column\": \"Current Price\",\n      \"properties\": {\n        \"dtype\": \"number\",\n        \"std\": 98.05508602802702,\n        \"min\": 4.5,\n        \"max\": 1274.949951,\n        \"num_unique_values\": 336,\n        \"samples\": [\n          65.809998,\n          81.589996,\n          57.299999\n        ],\n        \"semantic_type\": \"\",\n        \"description\": \"\"\n      }\n    },\n    {\n      \"column\": \"Price Change\",\n      \"properties\": {\n        \"dtype\": \"number\",\n        \"std\": 12.006337872456346,\n        \"min\": -47.12969338,\n        \"max\": 55.05168339,\n        \"num_unique_values\": 340,\n        \"samples\": [\n          -44.79813665,\n          1.166411376,\n          0.709921134\n        ],\n        \"semantic_type\": \"\",\n        \"description\": \"\"\n      }\n    },\n    {\n      \"column\": \"Volatility\",\n      \"properties\": {\n        \"dtype\": \"number\",\n        \"std\": 0.5917983526028793,\n        \"min\": 0.733163184,\n        \"max\": 4.58004173,\n        \"num_unique_values\": 340,\n        \"samples\": [\n          4.58004173,\n          1.521429893,\n          1.232828849\n        ],\n        \"semantic_type\": \"\",\n        \"description\": \"\"\n      }\n    },\n    {\n      \"column\": \"ROE\",\n      \"properties\": {\n        \"dtype\": \"number\",\n        \"std\": 96,\n        \"min\": 1,\n        \"max\": 917,\n        \"num_unique_values\": 82,\n        \"samples\": [\n          7,\n          135,\n          8\n        ],\n        \"semantic_type\": \"\",\n        \"description\": \"\"\n      }\n    },\n    {\n      \"column\": \"Cash Ratio\",\n      \"properties\": {\n        \"dtype\": \"number\",\n        \"std\": 90,\n        \"min\": 0,\n        \"max\": 958,\n        \"num_unique_values\": 124,\n        \"samples\": [\n          362,\n          237,\n          36\n        ],\n        \"semantic_type\": \"\",\n        \"description\": \"\"\n      }\n    },\n    {\n      \"column\": \"Net Cash Flow\",\n      \"properties\": {\n        \"dtype\": \"number\",\n        \"std\": 1946365312,\n        \"min\": -11208000000,\n        \"max\": 20764000000,\n        \"num_unique_values\": 332,\n        \"samples\": [\n          7194000,\n          -140000000,\n          150000000\n        ],\n        \"semantic_type\": \"\",\n        \"description\": \"\"\n      }\n    },\n    {\n      \"column\": \"Net Income\",\n      \"properties\": {\n        \"dtype\": \"number\",\n        \"std\": 3940150279,\n        \"min\": -23528000000,\n        \"max\": 24442000000,\n        \"num_unique_values\": 335,\n        \"samples\": [\n          685074000,\n          870120000,\n          -113891000\n        ],\n        \"semantic_type\": \"\",\n        \"description\": \"\"\n      }\n    },\n    {\n      \"column\": \"Earnings Per Share\",\n      \"properties\": {\n        \"dtype\": \"number\",\n        \"std\": 6.5877788514030975,\n        \"min\": -61.2,\n        \"max\": 50.09,\n        \"num_unique_values\": 268,\n        \"samples\": [\n          1.86,\n          1.01,\n          9.49\n        ],\n        \"semantic_type\": \"\",\n        \"description\": \"\"\n      }\n    },\n    {\n      \"column\": \"Estimated Shares Outstanding\",\n      \"properties\": {\n        \"dtype\": \"number\",\n        \"std\": 845849595.4176949,\n        \"min\": 27672156.86,\n        \"max\": 6159292035.0,\n        \"num_unique_values\": 323,\n        \"samples\": [\n          364388489.2,\n          69150986.84,\n          1151843818.0\n        ],\n        \"semantic_type\": \"\",\n        \"description\": \"\"\n      }\n    },\n    {\n      \"column\": \"P/E Ratio\",\n      \"properties\": {\n        \"dtype\": \"number\",\n        \"std\": 44.348731175196924,\n        \"min\": 2.935450768,\n        \"max\": 528.0390742,\n        \"num_unique_values\": 295,\n        \"samples\": [\n          27.68975042,\n          46.56896552,\n          30.69124332\n        ],\n        \"semantic_type\": \"\",\n        \"description\": \"\"\n      }\n    },\n    {\n      \"column\": \"P/B Ratio\",\n      \"properties\": {\n        \"dtype\": \"number\",\n        \"std\": 13.9669118022653,\n        \"min\": -76.11907749,\n        \"max\": 129.0645854,\n        \"num_unique_values\": 299,\n        \"samples\": [\n          -1.850994846,\n          2.768050904,\n          -2.012091003\n        ],\n        \"semantic_type\": \"\",\n        \"description\": \"\"\n      }\n    }\n  ]\n}"
            }
          },
          "metadata": {},
          "execution_count": 1
        }
      ]
    },
    {
      "cell_type": "markdown",
      "source": [
        "# PREPROCESS THE DATASET"
      ],
      "metadata": {
        "id": "JSISwKNIYnY_"
      }
    },
    {
      "cell_type": "code",
      "source": [
        "# Extract relevant columns - Returns and Volatility\n",
        "data = data[['Price Change', 'Volatility']]"
      ],
      "metadata": {
        "id": "fla-gDI9Xstd"
      },
      "execution_count": null,
      "outputs": []
    },
    {
      "cell_type": "code",
      "source": [
        "# Handle missing data if necessary\n",
        "data.dropna(inplace=True)"
      ],
      "metadata": {
        "id": "17ZZKeelX7Z2"
      },
      "execution_count": null,
      "outputs": []
    },
    {
      "cell_type": "code",
      "source": [
        "# Normalize the data\n",
        "scaler = StandardScaler()\n",
        "data_scaled = scaler.fit_transform(data)"
      ],
      "metadata": {
        "id": "0VIuSCsJYAqB"
      },
      "execution_count": null,
      "outputs": []
    },
    {
      "cell_type": "markdown",
      "source": [
        "# TRAIN, TEST AND EVALUATE THE MODEL ( different methods in K means )"
      ],
      "metadata": {
        "id": "B9jJx3mbYqAz"
      }
    },
    {
      "cell_type": "code",
      "source": [
        "# Use the Elbow Method to determine optimal K\n",
        "wcss = []\n",
        "K = range(1, 11)\n",
        "for k in K:\n",
        "    kmeans = KMeans(n_clusters=k, random_state=42)\n",
        "    kmeans.fit(data_scaled)\n",
        "    wcss.append(kmeans.inertia_)  # Sum of squared distances to closest cluster center\n",
        "\n",
        "# Plot the Elbow Curve\n",
        "plt.figure(figsize=(8, 5))\n",
        "plt.plot(K, wcss, 'bo-', markersize=8)\n",
        "plt.title('Elbow Method for Optimal K')\n",
        "plt.xlabel('Number of clusters (K)')\n",
        "plt.ylabel('Within-Cluster-Sum-of-Squares (WCSS)')\n",
        "plt.show()"
      ],
      "metadata": {
        "colab": {
          "base_uri": "https://localhost:8080/",
          "height": 487
        },
        "id": "fGRgcAcXYFqF",
        "outputId": "f9300526-1411-402a-e3d6-17a9edc7d6f5"
      },
      "execution_count": null,
      "outputs": [
        {
          "output_type": "display_data",
          "data": {
            "text/plain": [
              "<Figure size 800x500 with 1 Axes>"
            ],
            "image/png": "[encoded data removed]"
          },
          "metadata": {}
        }
      ]
    },
    {
      "cell_type": "code",
      "source": [
        "# Silhouette Score Method\n",
        "sil_scores = []\n",
        "for k in range(2, 11):\n",
        "    kmeans = KMeans(n_clusters=k, random_state=42)\n",
        "    kmeans.fit(data_scaled)\n",
        "    labels = kmeans.labels_\n",
        "    sil_scores.append(silhouette_score(data_scaled, labels))\n",
        "\n",
        "# Plot the Silhouette Scores\n",
        "plt.figure(figsize=(8, 5))\n",
        "plt.plot(range(2, 11), sil_scores, 'bo-', markersize=8)\n",
        "plt.title('Silhouette Score for Optimal K')\n",
        "plt.xlabel('Number of clusters (K)')\n",
        "plt.ylabel('Silhouette Score')\n",
        "plt.show()"
      ],
      "metadata": {
        "colab": {
          "base_uri": "https://localhost:8080/",
          "height": 487
        },
        "id": "pTcNCsqQYQ3p",
        "outputId": "c1f4bbea-f381-4139-d4da-d9b439af2885"
      },
      "execution_count": null,
      "outputs": [
        {
          "output_type": "display_data",
          "data": {
            "text/plain": [
              "<Figure size 800x500 with 1 Axes>"
            ],
            "image/png": "[encoded data removed]"
          },
          "metadata": {}
        }
      ]
    },
    {
      "cell_type": "code",
      "source": [
        "# Final K-means Clustering with Optimal K (using Silhouette Score or Elbow Method)\n",
        "optimal_k = sil_scores.index(max(sil_scores)) + 2  # Silhouette index starts at K=2\n",
        "kmeans = KMeans(n_clusters=optimal_k, random_state=42)\n",
        "data['Cluster'] = kmeans.fit_predict(data_scaled)"
      ],
      "metadata": {
        "id": "IT20u3GMYWb1"
      },
      "execution_count": null,
      "outputs": []
    },
    {
      "cell_type": "code",
      "source": [
        "# Analyze the clusters\n",
        "print(data.head())"
      ],
      "metadata": {
        "colab": {
          "base_uri": "https://localhost:8080/"
        },
        "id": "iV-V8tAoYdl7",
        "outputId": "1b9c3624-7970-43b7-8f0a-727df975d740"
      },
      "execution_count": null,
      "outputs": [
        {
          "output_type": "stream",
          "name": "stdout",
          "text": [
            "   Price Change  Volatility  Cluster\n",
            "0      9.999995    1.687151        1\n",
            "1      8.339433    2.197887        1\n",
            "2     11.301121    1.273646        1\n",
            "3     13.977195    1.357679        1\n",
            "4     -1.827858    1.701169        1\n"
          ]
        }
      ]
    }
  ]
}